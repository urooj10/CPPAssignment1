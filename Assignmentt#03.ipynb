{
 "cells": [
  {
   "cell_type": "code",
   "execution_count": 4,
   "metadata": {},
   "outputs": [
    {
     "name": "stdout",
     "output_type": "stream",
     "text": [
      "Do you want to continue? y/n ? y\n",
      "Enter Operator +\n",
      "Enter first value 5\n",
      "Enter second value 6\n",
      "11\n",
      "Do you want to continue? y/n ? y\n",
      "Enter Operator **\n",
      "Enter first value 3\n",
      "Enter second value 2\n",
      "9\n",
      "Do you want to continue? y/n ? n\n"
     ]
    }
   ],
   "source": [
    "#**************************************************** Question # 01************************************************************#\n",
    "\n",
    "#Make a calculator using Python with addition , subtraction , multiplication ,division and power.\n",
    "ch=\"\"\n",
    "while ch!=\"N\":\n",
    "    ch=input(\"Do you want to continue? y/n ? \")\n",
    "    if ch.upper()== \"Y\":\n",
    "        op =input(\"Enter Operator \" )\n",
    "        first =int(input(\"Enter first value \" ))\n",
    "        second =int(input(\"Enter second value \" ))\n",
    "        if op == \"+\":\n",
    "            z = first + second\n",
    "            print(z)\n",
    "        elif op == \"/\":\n",
    "            z = first / second\n",
    "            print(z)\n",
    "        elif op == \"-\":\n",
    "            z = first - second\n",
    "            print(z)\n",
    "        elif op == \"*\":\n",
    "            z = first * second\n",
    "            print(z)\n",
    "        elif op == \"**\":\n",
    "            z = first ** second\n",
    "            print(z)\n",
    "        else:\n",
    "            print(\"wrong input\")\n",
    "    else:\n",
    "        break\n"
   ]
  },
  {
   "cell_type": "code",
   "execution_count": 29,
   "metadata": {},
   "outputs": [
    {
     "name": "stdout",
     "output_type": "stream",
     "text": [
      "The numeric values present in the list are: \n",
      "63.2\n",
      "2\n"
     ]
    }
   ],
   "source": [
    "#**************************************************** Question # 02************************************************************#\n",
    "\n",
    "l1=[\"oppo\",\"AIC000632\",63.2,\"ford\",2]\n",
    "n=[]\n",
    "for i in l1:\n",
    "    if (type(i)==int)|(type(i)==float):\n",
    "        n.append(i)\n",
    "\n",
    "if len(n)!=0:\n",
    "    print(\"The numeric values present in the list are: \")\n",
    "    for i in n:\n",
    "        print(i)\n",
    "else:\n",
    "    print(\"there is no numeric value in the list\")\n",
    "\n",
    "    \n",
    "\n"
   ]
  },
  {
   "cell_type": "code",
   "execution_count": 13,
   "metadata": {},
   "outputs": [
    {
     "name": "stdout",
     "output_type": "stream",
     "text": [
      "{'brand': 'Ford', 'model': 'Mustang'}\n",
      "{'brand': 'Ford', 'model': 'Mustang', 'year': 1965}\n"
     ]
    }
   ],
   "source": [
    "#**************************************************** Question # 03************************************************************#\n",
    "#Write a Python script to add a key to a dictionary\n",
    "thisdict = {\n",
    "  \"brand\": \"Ford\",\n",
    "  \"model\": \"Mustang\",\n",
    "}\n",
    "print(thisdict)\n",
    "thisdict[\"year\"] = 1965\n",
    "print(thisdict)\n",
    "\n"
   ]
  },
  {
   "cell_type": "code",
   "execution_count": 21,
   "metadata": {},
   "outputs": [
    {
     "name": "stdout",
     "output_type": "stream",
     "text": [
      "The sum of all numeric items in the list is 9.7\n"
     ]
    }
   ],
   "source": [
    "#**************************************************** Question # 04************************************************************#\n",
    "# Write a Python program to sum all the numeric items in a dictionary\n",
    "dic = {1:\"Apple\",2:3,3:\"Mango\",4:6.7}\n",
    "count =0\n",
    "for a in dic.values():\n",
    "    if (type(a) == int) |(type(a) == float) :\n",
    "        count = count + a\n",
    "print(\"The sum of all numeric items in the list is\",count)"
   ]
  },
  {
   "cell_type": "code",
   "execution_count": 15,
   "metadata": {},
   "outputs": [
    {
     "name": "stdout",
     "output_type": "stream",
     "text": [
      "[5, 3, 6, 8, 7]\n"
     ]
    }
   ],
   "source": [
    "#**************************************************** Question # 05************************************************************#\n",
    "# Write a program to identify duplicate values from list\n",
    "l = [2,5,3,6,8,5,3,5,7,8,9,3,1,4,6,7,0]\n",
    "k = []\n",
    "for a in l:\n",
    "    count = 0\n",
    "    c = l.index(a)\n",
    "    for i in range(c+1,len(l)):\n",
    "        if l[i] == a:\n",
    "            count +=1\n",
    "    if count > 0:\n",
    "        if a not in k:\n",
    "            k.append(a)\n",
    "print(k)\n",
    "    \n",
    "            \n",
    "    \n"
   ]
  },
  {
   "cell_type": "code",
   "execution_count": 30,
   "metadata": {},
   "outputs": [
    {
     "name": "stdout",
     "output_type": "stream",
     "text": [
      "Enter Key: yyy\n",
      "dosenot exist \n"
     ]
    }
   ],
   "source": [
    "#**************************************************** Question # 06************************************************************#\n",
    "# Write a Python script to check if a given key already exists in a dictionary\n",
    "i = input(\"Enter Key: \")\n",
    "vehicles={\"car\":\"civic\", \"bike\": \"honda\",\"car_price\":2000000, \"bike_price\":80000}\n",
    "if i in vehicles:\n",
    "    print(\"exist\")\n",
    "else:\n",
    "    print(\"dosenot exist \")"
   ]
  },
  {
   "cell_type": "code",
   "execution_count": null,
   "metadata": {},
   "outputs": [],
   "source": []
  },
  {
   "cell_type": "code",
   "execution_count": null,
   "metadata": {},
   "outputs": [],
   "source": []
  }
 ],
 "metadata": {
  "kernelspec": {
   "display_name": "Python 3",
   "language": "python",
   "name": "python3"
  },
  "language_info": {
   "codemirror_mode": {
    "name": "ipython",
    "version": 3
   },
   "file_extension": ".py",
   "mimetype": "text/x-python",
   "name": "python",
   "nbconvert_exporter": "python",
   "pygments_lexer": "ipython3",
   "version": "3.6.5"
  }
 },
 "nbformat": 4,
 "nbformat_minor": 2
}
