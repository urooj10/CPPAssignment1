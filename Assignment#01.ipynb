{
 "cells": [
  {
   "cell_type": "code",
   "execution_count": 7,
   "metadata": {},
   "outputs": [
    {
     "name": "stdout",
     "output_type": "stream",
     "text": [
      "Twinkle, twinkle, little star, \n",
      "\tHow I wonder what you are! \n",
      "\t\tUp above the world so high, \n",
      "\t\tLike a diamond in the sky. \n",
      "Twinkle, twinkle, little star, \n",
      "\tHow I wonder what you are!\n"
     ]
    }
   ],
   "source": [
    "#**************************************************** Question # 01************************************************************#\n",
    "\n",
    "print(\"Twinkle, twinkle, little star, \\n\\tHow I wonder what you are! \\n\\t\\tUp above the world so high, \\n\\t\\tLike a diamond in the sky. \\nTwinkle, twinkle, little star, \\n\\tHow I wonder what you are!\")\n",
    "\n"
   ]
  },
  {
   "cell_type": "code",
   "execution_count": 14,
   "metadata": {},
   "outputs": [
    {
     "name": "stdout",
     "output_type": "stream",
     "text": [
      "My Python Version: 3.6.5 |Anaconda, Inc.| (default, Mar 29 2018, 13:32:41) [MSC v.1900 64 bit (AMD64)]\n"
     ]
    }
   ],
   "source": [
    "#**************************************************** Question # 02************************************************************#\n",
    "\n",
    "\n",
    "import sys\n",
    "print(\"My Python Version: \",end=\"\")\n",
    "print(sys.version)\n",
    "\n"
   ]
  },
  {
   "cell_type": "code",
   "execution_count": 9,
   "metadata": {},
   "outputs": [
    {
     "name": "stdout",
     "output_type": "stream",
     "text": [
      "Date: 11/ 20/2019 \n",
      "Time: 10 : 02 : 20\n"
     ]
    }
   ],
   "source": [
    "#**************************************************** Question # 03 ************************************************************#\n",
    "\n",
    "\n",
    "from datetime import datetime\n",
    "now=datetime.now()\n",
    "dt_str=now.strftime(\"Date: %m/ %d/%Y \\nTime: %H : %M : %S\")\n",
    "print(dt_str)"
   ]
  },
  {
   "cell_type": "code",
   "execution_count": 15,
   "metadata": {},
   "outputs": [
    {
     "name": "stdout",
     "output_type": "stream",
     "text": [
      "Enter radius of circle: 5.5\n",
      "Area of the circle of radius  5.5  is  95.03\n"
     ]
    }
   ],
   "source": [
    "#****************************************************  Question#04 ************************************************************#\n",
    "\n",
    "# A Program to find the area of the circle which takes radius input from user and calculates its area\n",
    "from math import pi\n",
    "r=float(input(\"Enter radius of circle: \"))\n",
    "area= pi * (r**2)\n",
    "print(\"Area of the circle of radius \",r,\" is \",round(area,2)) "
   ]
  },
  {
   "cell_type": "code",
   "execution_count": 12,
   "metadata": {},
   "outputs": [
    {
     "name": "stdout",
     "output_type": "stream",
     "text": [
      "Enter your first name: urooj\n",
      "Enter your last name: fatima\n",
      "your full name is:  urooj fatima\n",
      "your reversed full name is :amitaf jooru"
     ]
    }
   ],
   "source": [
    "#**************************************************** Question # 05************************************************************#\n",
    "\n",
    "fn=input(\"Enter your first name: \")\n",
    "\n",
    "ln=input(\"Enter your last name: \")\n",
    "fullname=fn+\" \"+ln\n",
    "print(\"your full name is: \",fullname)\n",
    "revname=list(reversed(fullname))\n",
    "print(\"your reversed full name is :\",end=\"\")\n",
    "for i in revname:\n",
    "    print(i,end=\"\")\n",
    "    "
   ]
  },
  {
   "cell_type": "code",
   "execution_count": 13,
   "metadata": {},
   "outputs": [
    {
     "name": "stdout",
     "output_type": "stream",
     "text": [
      "enter first number: 5\n",
      "enter second number: 9\n",
      "sum of the numbers is : 14\n"
     ]
    }
   ],
   "source": [
    "#**************************************************** Question # 06 ************************************************************#\n",
    "\n",
    "\n",
    "num1=int(input(\"enter first number: \"))\n",
    "num2=int(input(\"enter second number: \"))\n",
    "addition=num1+num2\n",
    "print(\"sum of the numbers is :\",addition)\n"
   ]
  },
  {
   "cell_type": "code",
   "execution_count": null,
   "metadata": {},
   "outputs": [],
   "source": []
  }
 ],
 "metadata": {
  "kernelspec": {
   "display_name": "Python 3",
   "language": "python",
   "name": "python3"
  },
  "language_info": {
   "codemirror_mode": {
    "name": "ipython",
    "version": 3
   },
   "file_extension": ".py",
   "mimetype": "text/x-python",
   "name": "python",
   "nbconvert_exporter": "python",
   "pygments_lexer": "ipython3",
   "version": "3.6.5"
  }
 },
 "nbformat": 4,
 "nbformat_minor": 2
}
