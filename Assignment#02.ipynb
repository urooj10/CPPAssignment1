{
 "cells": [
  {
   "cell_type": "code",
   "execution_count": 1,
   "metadata": {},
   "outputs": [
    {
     "name": "stdout",
     "output_type": "stream",
     "text": [
      "Enter your name: urooj\n",
      "Enter your Roll number: 101\n",
      "Enter marks of Chemistry: 88\n",
      "Enter marks for Biology: 99\n",
      "Enter marks for English: 88\n",
      "Enter marks for  Pak. Studies: 99\n",
      "Enter marks for Sindhi 88\n",
      "Obtained Marks:  462\n",
      "Percentage is 92.4\n",
      "YOUR GRADE IS A+\n"
     ]
    }
   ],
   "source": [
    "#**************************************************** Question # 01************************************************************#\n",
    "\n",
    "#marksheet\n",
    "input(\"Enter your name: \")\n",
    "input(\"Enter your Roll number: \")\n",
    "s1=int(input(\"Enter marks of Chemistry: \"))\n",
    "s2=int(input(\"Enter marks for Biology: \"))\n",
    "s3=int(input(\"Enter marks for English: \"))\n",
    "s4=int(input(\"Enter marks for  Pak. Studies: \"))\n",
    "s5=int(input(\"Enter marks for Sindhi \"))\n",
    "TotalObtained=s1+s2+s3+s4+s5\n",
    "print(\"Obtained Marks: \", TotalObtained)\n",
    "Totalmarks=500\n",
    "perc=(TotalObtained/Totalmarks)*100\n",
    "print(\"Percentage is\",perc) \n",
    "if perc>=90.0 :\n",
    "    print(\"YOUR GRADE IS A+\")\n",
    "elif perc>=80.0 and perc<90 :\n",
    "    print(\"YOUR GRADE IS A\")\n",
    "elif perc>=70.0 and perc<80.0   :\n",
    "    print(\"YOUR GRADE IS B\")\n",
    "elif perc>=60.0 and perc<70.0   :\n",
    "    print(\"YOUR GRADE IS C\")\n",
    "elif perc>=50.0 and perc<60.0   :\n",
    "    print(\"YOUR GRADE IS D\")\n",
    "else   :\n",
    "    print(\"YOU ARE FAIL! WORK HARD\")"
   ]
  },
  {
   "cell_type": "code",
   "execution_count": 3,
   "metadata": {},
   "outputs": [
    {
     "name": "stdout",
     "output_type": "stream",
     "text": [
      "ENTER NUMBER TO CHECK It IS EVEN OR ODD 5\n",
      "Number is odd\n"
     ]
    }
   ],
   "source": [
    "#**************************************************** Question # 02************************************************************#\n",
    "\n",
    "#program to check number is even or odd\n",
    "a=int(input(\"ENTER NUMBER TO CHECK It IS EVEN OR ODD \"))\n",
    "if a%2==0:\n",
    "    print(\"Number is even\") \n",
    "else    :\n",
    "    print(\"Number is odd\")"
   ]
  },
  {
   "cell_type": "code",
   "execution_count": 4,
   "metadata": {},
   "outputs": [
    {
     "name": "stdout",
     "output_type": "stream",
     "text": [
      "List is  [1, 2, 3, 4]\n",
      "The length of the list is  4\n"
     ]
    }
   ],
   "source": [
    "#**************************************************** Question # 03************************************************************#\n",
    "\n",
    "#program to find the length of the list\n",
    "l1=[1,2,3,4]\n",
    "print(\"List is \",l1)\n",
    "print(\"The length of the list is \",len(l1))"
   ]
  },
  {
   "cell_type": "code",
   "execution_count": 5,
   "metadata": {},
   "outputs": [
    {
     "name": "stdout",
     "output_type": "stream",
     "text": [
      "List is  [2, 4, 6, 8, 10, 12]\n",
      "The sum of the list items is  42\n"
     ]
    }
   ],
   "source": [
    "#**************************************************** Question # 04************************************************************#\n",
    "\n",
    "#program to find the sum of the list items\n",
    "list1=[2,4,6,8,10,12]\n",
    "sum=0\n",
    "for item in list1:\n",
    "    sum=sum+item\n",
    "print(\"List is \",list1)\n",
    "print(\"The sum of the list items is \",sum)"
   ]
  },
  {
   "cell_type": "code",
   "execution_count": 8,
   "metadata": {},
   "outputs": [
    {
     "name": "stdout",
     "output_type": "stream",
     "text": [
      "Largest number is  300\n"
     ]
    }
   ],
   "source": [
    "#**************************************************** Question # 05************************************************************#\n",
    "\n",
    "#program to find the largest number in  a list\n",
    "list1=[8,6,4,3,9,1,0,5,12,11,13,0,200,300,11]\n",
    "temp=0\n",
    "for i in list1:\n",
    "    if(i>temp):\n",
    "        temp=i\n",
    "\n",
    "print(\"Largest number is \",temp)"
   ]
  },
  {
   "cell_type": "code",
   "execution_count": 12,
   "metadata": {},
   "outputs": [
    {
     "name": "stdout",
     "output_type": "stream",
     "text": [
      "1\n",
      "1\n",
      "2\n",
      "3\n",
      "0\n",
      "4\n"
     ]
    }
   ],
   "source": [
    "#**************************************************** Question # 06************************************************************#\n",
    "\n",
    "#program to print the list items which are less than 5\n",
    "a = [1, 1, 2, 3, 5, 8, 13, 21, 34, 55,0,4,89]\n",
    "for i in a:\n",
    "    if(i<5):\n",
    "        print(i)\n"
   ]
  },
  {
   "cell_type": "code",
   "execution_count": null,
   "metadata": {},
   "outputs": [],
   "source": []
  }
 ],
 "metadata": {
  "kernelspec": {
   "display_name": "Python 3",
   "language": "python",
   "name": "python3"
  },
  "language_info": {
   "codemirror_mode": {
    "name": "ipython",
    "version": 3
   },
   "file_extension": ".py",
   "mimetype": "text/x-python",
   "name": "python",
   "nbconvert_exporter": "python",
   "pygments_lexer": "ipython3",
   "version": "3.6.5"
  }
 },
 "nbformat": 4,
 "nbformat_minor": 2
}
